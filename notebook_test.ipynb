{
 "cells": [
  {
   "cell_type": "code",
   "execution_count": 1,
   "metadata": {},
   "outputs": [],
   "source": [
    "import pandas as pd\n",
    "import os\n",
    "import numpy as np\n",
    "from lib.func_data import import_data"
   ]
  },
  {
   "cell_type": "code",
   "execution_count": 25,
   "metadata": {},
   "outputs": [],
   "source": [
    "# list_path = [r\"data/stats-chiav_u15_23_24-vs-annone-22-10-2023.csv\",\n",
    "#              r\"data/stats-chiav_dr3_23_34-vs-brembate-22-10-2023.csv\"\n",
    "#             ]\n",
    "\n",
    "# L_append = []\n",
    "# for path in list_path:\n",
    "#     data_temp = pd.read_csv(path).rename(columns={\"Nº\":\"Nr\"})\n",
    "#     data_temp.fillna(9999, inplace=True)\n",
    "#     data_temp.Nr = data_temp.Nr.astype(int)\n",
    "#     data_temp.replace(9999, \"\", inplace=True)\n",
    "#     game = path.split(\"/\")[-1][6:-4]\n",
    "\n",
    "#     split_ = game.split(\"-\")\n",
    "#     season = split_[0][-5:]\n",
    "#     my_team = split_[0][:-6]\n",
    "#     other_team = split_[2]\n",
    "#     date = pd.to_datetime( split_[3] + \"-\" + split_[4] + \"-\" + split_[5] )\n",
    "\n",
    "#     data_temp[\"season\"] = season\n",
    "#     data_temp[\"my_team\"] = my_team\n",
    "#     data_temp[\"other_team\"] = other_team\n",
    "#     data_temp[\"date\"] = date\n",
    "\n",
    "#     L_append = L_append + [data_temp]\n",
    "\n",
    "# data = pd.concat(L_append)"
   ]
  },
  {
   "cell_type": "code",
   "execution_count": 26,
   "metadata": {},
   "outputs": [],
   "source": [
    "# list_team = list(set(list(data.my_team.values)))\n",
    "# list_other = list(set(list(data.other_team.values)))"
   ]
  },
  {
   "cell_type": "code",
   "execution_count": 2,
   "metadata": {},
   "outputs": [
    {
     "name": "stderr",
     "output_type": "stream",
     "text": [
      "c:\\Users\\BiavaschiStefano\\OneDrive - PORINI Srl\\Progetti\\test_streamlit_2\\lib\\func_data.py:17: UserWarning: Parsing dates in DD/MM/YYYY format when dayfirst=False (the default) was specified. This may lead to inconsistently parsed dates! Specify a format to ensure consistent parsing.\n",
      "  date = pd.to_datetime( split_[3] + \"-\" + split_[4] + \"-\" + split_[5] )\n",
      "c:\\Users\\BiavaschiStefano\\OneDrive - PORINI Srl\\Progetti\\test_streamlit_2\\lib\\func_data.py:17: UserWarning: Parsing dates in DD/MM/YYYY format when dayfirst=False (the default) was specified. This may lead to inconsistently parsed dates! Specify a format to ensure consistent parsing.\n",
      "  date = pd.to_datetime( split_[3] + \"-\" + split_[4] + \"-\" + split_[5] )\n",
      "c:\\Users\\BiavaschiStefano\\OneDrive - PORINI Srl\\Progetti\\test_streamlit_2\\lib\\func_data.py:17: UserWarning: Parsing dates in DD/MM/YYYY format when dayfirst=False (the default) was specified. This may lead to inconsistently parsed dates! Specify a format to ensure consistent parsing.\n",
      "  date = pd.to_datetime( split_[3] + \"-\" + split_[4] + \"-\" + split_[5] )\n",
      "c:\\Users\\BiavaschiStefano\\OneDrive - PORINI Srl\\Progetti\\test_streamlit_2\\lib\\func_data.py:17: UserWarning: Parsing dates in DD/MM/YYYY format when dayfirst=False (the default) was specified. This may lead to inconsistently parsed dates! Specify a format to ensure consistent parsing.\n",
      "  date = pd.to_datetime( split_[3] + \"-\" + split_[4] + \"-\" + split_[5] )\n",
      "c:\\Users\\BiavaschiStefano\\OneDrive - PORINI Srl\\Progetti\\test_streamlit_2\\lib\\func_data.py:17: UserWarning: Parsing dates in DD/MM/YYYY format when dayfirst=False (the default) was specified. This may lead to inconsistently parsed dates! Specify a format to ensure consistent parsing.\n",
      "  date = pd.to_datetime( split_[3] + \"-\" + split_[4] + \"-\" + split_[5] )\n"
     ]
    }
   ],
   "source": [
    "list_path =[\n",
    "    r\"data/stats-chiav_dr3_23_24-vs-brembate-22-10-2023.csv\",\n",
    "    r\"data/stats-chiav_u14_22_23-vs-pontida-05-03-2023.csv\",\n",
    "    r\"data/stats-chiav_u15_23_24-vs-annone-22-10-2023.csv\",\n",
    "    r\"data/stats-chiav_u17_22_23-vs-mandello-30-04-2023.csv\",\n",
    "    r\"data/stats-chiav_u17_22_23-vs-morbegno-19-02-2023.csv\",\n",
    "    r\"data/stats-chiav_u17_22_23-vs-rovagnate-29-01-2023.csv\",\n",
    "    r\"data/stats-chiav_prd_22_23-vs-sondrio-05-03-2023.csv\"\n",
    "]\n",
    "\n",
    "\n",
    "data = import_data(list_path)"
   ]
  },
  {
   "cell_type": "code",
   "execution_count": 12,
   "metadata": {},
   "outputs": [
    {
     "data": {
      "text/plain": [
       "'22-10-2023'"
      ]
     },
     "execution_count": 12,
     "metadata": {},
     "output_type": "execute_result"
    }
   ],
   "source": [
    "pd.to_datetime((data.date.values)[0]).strftime('%d-%m-%Y')"
   ]
  }
 ],
 "metadata": {
  "kernelspec": {
   "display_name": "streamlit-test-stats",
   "language": "python",
   "name": "python3"
  },
  "language_info": {
   "codemirror_mode": {
    "name": "ipython",
    "version": 3
   },
   "file_extension": ".py",
   "mimetype": "text/x-python",
   "name": "python",
   "nbconvert_exporter": "python",
   "pygments_lexer": "ipython3",
   "version": "3.8.10"
  }
 },
 "nbformat": 4,
 "nbformat_minor": 2
}
