{
 "cells": [
  {
   "cell_type": "code",
   "execution_count": 22,
   "metadata": {},
   "outputs": [],
   "source": [
    "import pandas as pd\n",
    "import os\n",
    "import numpy as np"
   ]
  },
  {
   "cell_type": "code",
   "execution_count": 44,
   "metadata": {},
   "outputs": [
    {
     "name": "stderr",
     "output_type": "stream",
     "text": [
      "C:\\Users\\BiavaschiStefano\\AppData\\Local\\Temp\\ipykernel_20788\\2152134620.py:16: UserWarning: Parsing dates in DD/MM/YYYY format when dayfirst=False (the default) was specified. This may lead to inconsistently parsed dates! Specify a format to ensure consistent parsing.\n",
      "  date = pd.to_datetime( split_[3] + \"-\" + split_[4] + \"-\" + split_[5] )\n",
      "C:\\Users\\BiavaschiStefano\\AppData\\Local\\Temp\\ipykernel_20788\\2152134620.py:16: UserWarning: Parsing dates in DD/MM/YYYY format when dayfirst=False (the default) was specified. This may lead to inconsistently parsed dates! Specify a format to ensure consistent parsing.\n",
      "  date = pd.to_datetime( split_[3] + \"-\" + split_[4] + \"-\" + split_[5] )\n"
     ]
    }
   ],
   "source": [
    "list_path = [r\"data/stats-chiav_u15_23_24-vs-annone-22-10-2023.csv\",\n",
    "             r\"data/stats-chiav_dr3_23_34-vs-brembate-22-10-2023.csv\"\n",
    "            ]\n",
    "\n",
    "L_append = []\n",
    "for path in list_path:\n",
    "    data_temp = pd.read_csv(path).rename(columns={\"Nº\":\"Nr\"})\n",
    "    data_temp.fillna(9999, inplace=True)\n",
    "    data_temp.Nr = data_temp.Nr.astype(int)\n",
    "    data_temp.replace(9999, \"\", inplace=True)\n",
    "    game = path.split(\"/\")[-1][6:-4]\n",
    "\n",
    "    split_ = game.split(\"-\")\n",
    "    my_team = split_[0]\n",
    "    other_team = split_[2]\n",
    "    date = pd.to_datetime( split_[3] + \"-\" + split_[4] + \"-\" + split_[5] )\n",
    "\n",
    "    data_temp[\"my_team\"] = my_team\n",
    "    data_temp[\"other_team\"] = other_team\n",
    "    data_temp[\"date\"] = date\n",
    "\n",
    "    L_append = L_append + [data_temp]\n",
    "\n",
    "data = pd.concat(L_append)"
   ]
  },
  {
   "cell_type": "code",
   "execution_count": 50,
   "metadata": {},
   "outputs": [],
   "source": [
    "list_team = list(set(list(data.my_team.values)))\n",
    "list_other = list(set(list(data.other_team.values)))"
   ]
  },
  {
   "cell_type": "code",
   "execution_count": 51,
   "metadata": {},
   "outputs": [
    {
     "data": {
      "text/plain": [
       "['brembate', 'annone']"
      ]
     },
     "execution_count": 51,
     "metadata": {},
     "output_type": "execute_result"
    }
   ],
   "source": [
    "list_other"
   ]
  }
 ],
 "metadata": {
  "kernelspec": {
   "display_name": "streamlit-test-stats",
   "language": "python",
   "name": "python3"
  },
  "language_info": {
   "codemirror_mode": {
    "name": "ipython",
    "version": 3
   },
   "file_extension": ".py",
   "mimetype": "text/x-python",
   "name": "python",
   "nbconvert_exporter": "python",
   "pygments_lexer": "ipython3",
   "version": "3.8.10"
  }
 },
 "nbformat": 4,
 "nbformat_minor": 2
}
