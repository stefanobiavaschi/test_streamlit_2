{
 "cells": [
  {
   "cell_type": "code",
   "execution_count": 3,
   "metadata": {},
   "outputs": [],
   "source": [
    "import pandas as pd\n",
    "import os\n",
    "import numpy as np\n",
    "from lib.func_data import import_data\n",
    "pd.options.display.max_columns = None"
   ]
  },
  {
   "cell_type": "code",
   "execution_count": 25,
   "metadata": {},
   "outputs": [],
   "source": [
    "# list_path = [r\"data/stats-chiav_u15_23_24-vs-annone-22-10-2023.csv\",\n",
    "#              r\"data/stats-chiav_dr3_23_34-vs-brembate-22-10-2023.csv\"\n",
    "#             ]\n",
    "\n",
    "# L_append = []\n",
    "# for path in list_path:\n",
    "#     data_temp = pd.read_csv(path).rename(columns={\"Nº\":\"Nr\"})\n",
    "#     data_temp.fillna(9999, inplace=True)\n",
    "#     data_temp.Nr = data_temp.Nr.astype(int)\n",
    "#     data_temp.replace(9999, \"\", inplace=True)\n",
    "#     game = path.split(\"/\")[-1][6:-4]\n",
    "\n",
    "#     split_ = game.split(\"-\")\n",
    "#     season = split_[0][-5:]\n",
    "#     my_team = split_[0][:-6]\n",
    "#     other_team = split_[2]\n",
    "#     date = pd.to_datetime( split_[3] + \"-\" + split_[4] + \"-\" + split_[5] )\n",
    "\n",
    "#     data_temp[\"season\"] = season\n",
    "#     data_temp[\"my_team\"] = my_team\n",
    "#     data_temp[\"other_team\"] = other_team\n",
    "#     data_temp[\"date\"] = date\n",
    "\n",
    "#     L_append = L_append + [data_temp]\n",
    "\n",
    "# data = pd.concat(L_append)"
   ]
  },
  {
   "cell_type": "code",
   "execution_count": 26,
   "metadata": {},
   "outputs": [],
   "source": [
    "# list_team = list(set(list(data.my_team.values)))\n",
    "# list_other = list(set(list(data.other_team.values)))"
   ]
  },
  {
   "cell_type": "code",
   "execution_count": 9,
   "metadata": {},
   "outputs": [],
   "source": [
    "list_path =[\n",
    "    r\"data/stats-chiav_dr3_23_24-vs-brembate-22-10-2023.csv\",\n",
    "    r\"data/stats-chiav_u14_22_23-vs-pontida-05-03-2023.csv\",\n",
    "    r\"data/stats-chiav_u15_23_24-vs-annone-22-10-2023.csv\",\n",
    "    r\"data/stats-chiav_u17_22_23-vs-mandello-30-04-2023.csv\",\n",
    "    r\"data/stats-chiav_u17_22_23-vs-morbegno-19-02-2023.csv\",\n",
    "    r\"data/stats-chiav_u17_22_23-vs-rovagnate-29-01-2023.csv\",\n",
    "    r\"data/stats-chiav_prd_22_23-vs-sondrio-05-03-2023.csv\"\n",
    "]\n",
    "\n",
    "\n",
    "\n",
    "#data = import_data(list_path)\n",
    "\n",
    "#list_season = list(set(list(data.season.values)))\n",
    "#scelta_season = list_season[0]\n",
    "\n",
    "\n",
    "#list_team = list(set(list(data.loc[data.season == scelta_season].my_team.values)))\n",
    "#scelta_team = list_team[1]\n",
    "\n",
    "# scelta_media = \"Partita singola\"\n",
    "\n",
    "#data = data.loc[ (data.my_team == scelta_team) & (data.other_team == \"mandello\") ]\n",
    "\n",
    "# if scelta_media == \"Partita singola\":\n",
    "#     list_other = list(set(list(data.loc[(data.my_team == scelta_team) & (data.season == scelta_season)].other_team.values)))\n",
    "    # scelta_other = \"mandello\"\n",
    "\n",
    "#     list_date = list(set(list(data.loc[(data.my_team == scelta_team) & (data.season == scelta_season) & \\\n",
    "#                                     (data.other_team == scelta_other)].date.values)))\n",
    "#     scelta_date = list_date[0]\n",
    "\n",
    "    \n",
    "#     data_int = data.loc[ (data.my_team == scelta_team) & (data.other_team == scelta_other) & (data.date == scelta_date) ]\n",
    "\n",
    "#     data_fin = data_int.drop(columns=[\"season\",\"my_team\", \"other_team\", \"date\", \"PFD\", \"sec\", \"min_\", \"sec_\"])"
   ]
  },
  {
   "cell_type": "code",
   "execution_count": 51,
   "metadata": {},
   "outputs": [
    {
     "data": {
      "text/plain": [
       "50.0"
      ]
     },
     "execution_count": 51,
     "metadata": {},
     "output_type": "execute_result"
    }
   ],
   "source": [
    "(data.sec.sum()/60)/4"
   ]
  },
  {
   "cell_type": "code",
   "execution_count": null,
   "metadata": {},
   "outputs": [],
   "source": [
    "Avversari,Totale,,53,,,,,,,,,,,,,,,,,,,,,,,,,"
   ]
  },
  {
   "cell_type": "code",
   "execution_count": 41,
   "metadata": {},
   "outputs": [],
   "source": [
    "list_path =[\n",
    "    r\"data/stats-chiav_dr3_23_24-vs-brembate-22-10-2023.csv\",\n",
    "    r\"data/stats-chiav_u14_22_23-vs-pontida-05-03-2023.csv\",\n",
    "    r\"data/stats-chiav_u15_23_24-vs-annone-22-10-2023.csv\",\n",
    "    r\"data/stats-chiav_u17_22_23-vs-mandello-30-04-2023.csv\",\n",
    "    r\"data/stats-chiav_u17_22_23-vs-morbegno-19-02-2023.csv\",\n",
    "    #r\"data/stats-chiav_u17_22_23-vs-rovagnate-29-01-2023.csv\",\n",
    "    #r\"data/stats-chiav_prd_22_23-vs-sondrio-05-03-2023.csv\",\n",
    "    #r\"data/stats-chiav_u15_23_24-vs-lambrugo-28-10-2023.csv\"\n",
    "]\n",
    "\n",
    "\n",
    "L_append = []\n",
    "for path in list_path:\n",
    "    data_temp = pd.read_csv(path).rename(columns={\"Nº\":\"Nr\"})\n",
    "    data_temp.fillna(9999, inplace=True)\n",
    "\n",
    "    L_append = L_append + [data_temp]\n",
    "\n",
    "data = pd.concat(L_append)"
   ]
  },
  {
   "cell_type": "code",
   "execution_count": 29,
   "metadata": {},
   "outputs": [
    {
     "data": {
      "text/html": [
       "<div>\n",
       "<style scoped>\n",
       "    .dataframe tbody tr th:only-of-type {\n",
       "        vertical-align: middle;\n",
       "    }\n",
       "\n",
       "    .dataframe tbody tr th {\n",
       "        vertical-align: top;\n",
       "    }\n",
       "\n",
       "    .dataframe thead th {\n",
       "        text-align: right;\n",
       "    }\n",
       "</style>\n",
       "<table border=\"1\" class=\"dataframe\">\n",
       "  <thead>\n",
       "    <tr style=\"text-align: right;\">\n",
       "      <th></th>\n",
       "      <th>PTS</th>\n",
       "    </tr>\n",
       "  </thead>\n",
       "  <tbody>\n",
       "    <tr>\n",
       "      <th>13</th>\n",
       "      <td>54</td>\n",
       "    </tr>\n",
       "  </tbody>\n",
       "</table>\n",
       "</div>"
      ],
      "text/plain": [
       "    PTS\n",
       "13   54"
      ]
     },
     "execution_count": 29,
     "metadata": {},
     "output_type": "execute_result"
    }
   ],
   "source": [
    "avv_tot = data.loc[data.Nr == \"Avversari\"][[\"PTS\"]].values[0][0]"
   ]
  },
  {
   "cell_type": "code",
   "execution_count": 38,
   "metadata": {},
   "outputs": [
    {
     "data": {
      "text/plain": [
       "63"
      ]
     },
     "execution_count": 38,
     "metadata": {},
     "output_type": "execute_result"
    }
   ],
   "source": [
    "chiav_tot = data.loc[data.Nr == 9999 ][[\"PTS\"]].values[0][0]"
   ]
  },
  {
   "cell_type": "code",
   "execution_count": 42,
   "metadata": {},
   "outputs": [
    {
     "name": "stderr",
     "output_type": "stream",
     "text": [
      "/var/folders/yt/xg_5dkfj5sqf8jh1hbyzy1440000gn/T/ipykernel_6366/4248073613.py:24: UserWarning: Parsing dates in %d-%m-%Y format when dayfirst=False (the default) was specified. Pass `dayfirst=True` or specify a format to silence this warning.\n",
      "  date = pd.to_datetime( split_[3] + \"-\" + split_[4] + \"-\" + split_[5] )\n"
     ]
    },
    {
     "ename": "TypeError",
     "evalue": "'<' not supported between instances of 'Timestamp' and 'str'",
     "output_type": "error",
     "traceback": [
      "\u001b[0;31m---------------------------------------------------------------------------\u001b[0m",
      "\u001b[0;31mTypeError\u001b[0m                                 Traceback (most recent call last)",
      "Cell \u001b[0;32mIn[42], line 38\u001b[0m\n\u001b[1;32m     36\u001b[0m L_append \u001b[39m=\u001b[39m L_append \u001b[39m+\u001b[39m [data_temp]\n\u001b[1;32m     37\u001b[0m df_results\u001b[39m.\u001b[39mloc[\u001b[39mlen\u001b[39m(df_results)] \u001b[39m=\u001b[39m [season, my_team, other_team, pd\u001b[39m.\u001b[39mto_datetime(date), chiav_tot, avv_tot, res ]\n\u001b[0;32m---> 38\u001b[0m df_results \u001b[39m=\u001b[39m df_results\u001b[39m.\u001b[39;49msort_values(by\u001b[39m=\u001b[39;49m\u001b[39m'\u001b[39;49m\u001b[39mData\u001b[39;49m\u001b[39m'\u001b[39;49m)\n\u001b[1;32m     39\u001b[0m df_results\u001b[39m.\u001b[39mData \u001b[39m=\u001b[39m df_results\u001b[39m.\u001b[39mData\u001b[39m.\u001b[39mapply( \u001b[39mlambda\u001b[39;00m x: pd\u001b[39m.\u001b[39mto_datetime( x )\u001b[39m.\u001b[39mstrftime(\u001b[39m'\u001b[39m\u001b[39m%d\u001b[39;00m\u001b[39m-\u001b[39m\u001b[39m%\u001b[39m\u001b[39mm-\u001b[39m\u001b[39m%\u001b[39m\u001b[39mY\u001b[39m\u001b[39m'\u001b[39m) )\n",
      "File \u001b[0;32m/Library/Frameworks/Python.framework/Versions/3.11/lib/python3.11/site-packages/pandas/core/frame.py:6955\u001b[0m, in \u001b[0;36mDataFrame.sort_values\u001b[0;34m(self, by, axis, ascending, inplace, kind, na_position, ignore_index, key)\u001b[0m\n\u001b[1;32m   6952\u001b[0m     \u001b[39mif\u001b[39;00m \u001b[39misinstance\u001b[39m(ascending, (\u001b[39mtuple\u001b[39m, \u001b[39mlist\u001b[39m)):\n\u001b[1;32m   6953\u001b[0m         ascending \u001b[39m=\u001b[39m ascending[\u001b[39m0\u001b[39m]\n\u001b[0;32m-> 6955\u001b[0m     indexer \u001b[39m=\u001b[39m nargsort(\n\u001b[1;32m   6956\u001b[0m         k, kind\u001b[39m=\u001b[39;49mkind, ascending\u001b[39m=\u001b[39;49mascending, na_position\u001b[39m=\u001b[39;49mna_position, key\u001b[39m=\u001b[39;49mkey\n\u001b[1;32m   6957\u001b[0m     )\n\u001b[1;32m   6958\u001b[0m \u001b[39melse\u001b[39;00m:\n\u001b[1;32m   6959\u001b[0m     \u001b[39mif\u001b[39;00m inplace:\n",
      "File \u001b[0;32m/Library/Frameworks/Python.framework/Versions/3.11/lib/python3.11/site-packages/pandas/core/sorting.py:483\u001b[0m, in \u001b[0;36mnargsort\u001b[0;34m(items, kind, ascending, na_position, key, mask)\u001b[0m\n\u001b[1;32m    481\u001b[0m     non_nans \u001b[39m=\u001b[39m non_nans[::\u001b[39m-\u001b[39m\u001b[39m1\u001b[39m]\n\u001b[1;32m    482\u001b[0m     non_nan_idx \u001b[39m=\u001b[39m non_nan_idx[::\u001b[39m-\u001b[39m\u001b[39m1\u001b[39m]\n\u001b[0;32m--> 483\u001b[0m indexer \u001b[39m=\u001b[39m non_nan_idx[non_nans\u001b[39m.\u001b[39;49margsort(kind\u001b[39m=\u001b[39;49mkind)]\n\u001b[1;32m    484\u001b[0m \u001b[39mif\u001b[39;00m \u001b[39mnot\u001b[39;00m ascending:\n\u001b[1;32m    485\u001b[0m     indexer \u001b[39m=\u001b[39m indexer[::\u001b[39m-\u001b[39m\u001b[39m1\u001b[39m]\n",
      "\u001b[0;31mTypeError\u001b[0m: '<' not supported between instances of 'Timestamp' and 'str'"
     ]
    }
   ],
   "source": [
    "df_results = pd.DataFrame(columns=[\"Season\", \"my_team\", \"Squadra\" ,\"Data\",\"Chiav\", \"Avversari\", \"W/L\"])\n",
    "L_append = []\n",
    "for path in list_path:\n",
    "    data_temp = pd.read_csv(path).rename(columns={\"Nº\":\"Nr\"})\n",
    "    data_temp.fillna(9999, inplace=True)\n",
    "\n",
    "    avv_tot = data_temp.loc[data_temp.Nr == \"Avversari\"][[\"PTS\"]].values[0][0]\n",
    "    chiav_tot = data_temp.loc[data_temp.Nr == 9999 ][[\"PTS\"]].values[0][0]\n",
    "    if chiav_tot > avv_tot:\n",
    "        res = \"W\"\n",
    "    else:\n",
    "        res = \"L\"\n",
    "\n",
    "    data_temp = data_temp.loc[data_temp.Nr != \"Avversari\"]\n",
    "\n",
    "    data_temp.Nr = data_temp.Nr.astype(int)\n",
    "    data_temp.replace(9999, \"\", inplace=True)\n",
    "    game = path.split(\"/\")[-1][6:-4]\n",
    "\n",
    "    split_ = game.split(\"-\")\n",
    "    season = split_[0][-5:]\n",
    "    my_team = split_[0][:-6]\n",
    "    other_team = split_[2]\n",
    "    date = pd.to_datetime( split_[3] + \"-\" + split_[4] + \"-\" + split_[5] )\n",
    "\n",
    "    data_temp[\"season\"] = season\n",
    "    data_temp[\"my_team\"] = my_team\n",
    "    data_temp[\"other_team\"] = other_team\n",
    "    data_temp[\"date\"] = date\n",
    "    data_temp.date = data_temp.date.apply( lambda x: pd.to_datetime( x ).strftime('%d-%m-%Y') )\n",
    "\n",
    "    data_temp[\"min_\"] = data_temp.MIN.apply(lambda x: x.split(\":\")[0] if len(x.split(\":\")[0])> 0 else 0).astype(int)\n",
    "    data_temp[\"sec_\"] = data_temp.MIN.apply(lambda x: x.split(\":\")[1] if len(x.split(\":\")) > 1 else 0 ).astype(int)\n",
    "    data_temp[\"sec\"] = data_temp.sec_ + 60*(data_temp.min_)\n",
    "\n",
    "    L_append = L_append + [data_temp]\n",
    "    df_results.loc[len(df_results)] = [season, my_team, other_team, pd.to_datetime(date), chiav_tot, avv_tot, res ]\n",
    "    df_results = df_results.sort_values(by='Data')\n",
    "    df_results.Data = df_results.Data.apply( lambda x: pd.to_datetime( x ).strftime('%d-%m-%Y') )"
   ]
  },
  {
   "cell_type": "code",
   "execution_count": 43,
   "metadata": {},
   "outputs": [
    {
     "data": {
      "text/html": [
       "<div>\n",
       "<style scoped>\n",
       "    .dataframe tbody tr th:only-of-type {\n",
       "        vertical-align: middle;\n",
       "    }\n",
       "\n",
       "    .dataframe tbody tr th {\n",
       "        vertical-align: top;\n",
       "    }\n",
       "\n",
       "    .dataframe thead th {\n",
       "        text-align: right;\n",
       "    }\n",
       "</style>\n",
       "<table border=\"1\" class=\"dataframe\">\n",
       "  <thead>\n",
       "    <tr style=\"text-align: right;\">\n",
       "      <th></th>\n",
       "      <th>Season</th>\n",
       "      <th>my_team</th>\n",
       "      <th>Squadra</th>\n",
       "      <th>Data</th>\n",
       "      <th>Chiav</th>\n",
       "      <th>Avversari</th>\n",
       "      <th>W/L</th>\n",
       "    </tr>\n",
       "  </thead>\n",
       "  <tbody>\n",
       "    <tr>\n",
       "      <th>0</th>\n",
       "      <td>23_24</td>\n",
       "      <td>chiav_dr3</td>\n",
       "      <td>brembate</td>\n",
       "      <td>22-10-2023</td>\n",
       "      <td>63</td>\n",
       "      <td>54</td>\n",
       "      <td>W</td>\n",
       "    </tr>\n",
       "    <tr>\n",
       "      <th>1</th>\n",
       "      <td>22_23</td>\n",
       "      <td>chiav_u14</td>\n",
       "      <td>pontida</td>\n",
       "      <td>2023-05-03 00:00:00</td>\n",
       "      <td>48</td>\n",
       "      <td>52</td>\n",
       "      <td>L</td>\n",
       "    </tr>\n",
       "  </tbody>\n",
       "</table>\n",
       "</div>"
      ],
      "text/plain": [
       "  Season    my_team   Squadra                 Data  Chiav  Avversari W/L\n",
       "0  23_24  chiav_dr3  brembate           22-10-2023     63         54   W\n",
       "1  22_23  chiav_u14   pontida  2023-05-03 00:00:00     48         52   L"
      ]
     },
     "execution_count": 43,
     "metadata": {},
     "output_type": "execute_result"
    }
   ],
   "source": [
    "df_results"
   ]
  },
  {
   "cell_type": "code",
   "execution_count": 40,
   "metadata": {},
   "outputs": [
    {
     "data": {
      "text/html": [
       "<div>\n",
       "<style scoped>\n",
       "    .dataframe tbody tr th:only-of-type {\n",
       "        vertical-align: middle;\n",
       "    }\n",
       "\n",
       "    .dataframe tbody tr th {\n",
       "        vertical-align: top;\n",
       "    }\n",
       "\n",
       "    .dataframe thead th {\n",
       "        text-align: right;\n",
       "    }\n",
       "</style>\n",
       "<table border=\"1\" class=\"dataframe\">\n",
       "  <thead>\n",
       "    <tr style=\"text-align: right;\">\n",
       "      <th></th>\n",
       "      <th>Season</th>\n",
       "      <th>my_team</th>\n",
       "      <th>Squadra</th>\n",
       "      <th>Data</th>\n",
       "      <th>Chiav</th>\n",
       "      <th>Avversari</th>\n",
       "      <th>W/L</th>\n",
       "    </tr>\n",
       "  </thead>\n",
       "  <tbody>\n",
       "    <tr>\n",
       "      <th>0</th>\n",
       "      <td>23_24</td>\n",
       "      <td>chiav_dr3</td>\n",
       "      <td>brembate</td>\n",
       "      <td>22-10-2023</td>\n",
       "      <td>63</td>\n",
       "      <td>54</td>\n",
       "      <td>W</td>\n",
       "    </tr>\n",
       "  </tbody>\n",
       "</table>\n",
       "</div>"
      ],
      "text/plain": [
       "  Season    my_team   Squadra        Data  Chiav  Avversari W/L\n",
       "0  23_24  chiav_dr3  brembate  22-10-2023     63         54   W"
      ]
     },
     "execution_count": 40,
     "metadata": {},
     "output_type": "execute_result"
    }
   ],
   "source": [
    "df_results"
   ]
  },
  {
   "cell_type": "code",
   "execution_count": null,
   "metadata": {},
   "outputs": [],
   "source": []
  },
  {
   "cell_type": "code",
   "execution_count": null,
   "metadata": {},
   "outputs": [],
   "source": []
  },
  {
   "cell_type": "code",
   "execution_count": null,
   "metadata": {},
   "outputs": [],
   "source": []
  },
  {
   "cell_type": "code",
   "execution_count": null,
   "metadata": {},
   "outputs": [],
   "source": []
  },
  {
   "cell_type": "code",
   "execution_count": null,
   "metadata": {},
   "outputs": [],
   "source": []
  },
  {
   "cell_type": "code",
   "execution_count": 8,
   "metadata": {},
   "outputs": [
    {
     "data": {
      "text/plain": [
       "'data/stats-chiav_u14_22_23-vs-pontida-05-03-2023.csv'"
      ]
     },
     "execution_count": 8,
     "metadata": {},
     "output_type": "execute_result"
    }
   ],
   "source": [
    "path"
   ]
  },
  {
   "cell_type": "code",
   "execution_count": 17,
   "metadata": {},
   "outputs": [
    {
     "data": {
      "text/html": [
       "<div>\n",
       "<style scoped>\n",
       "    .dataframe tbody tr th:only-of-type {\n",
       "        vertical-align: middle;\n",
       "    }\n",
       "\n",
       "    .dataframe tbody tr th {\n",
       "        vertical-align: top;\n",
       "    }\n",
       "\n",
       "    .dataframe thead th {\n",
       "        text-align: right;\n",
       "    }\n",
       "</style>\n",
       "<table border=\"1\" class=\"dataframe\">\n",
       "  <thead>\n",
       "    <tr style=\"text-align: right;\">\n",
       "      <th></th>\n",
       "      <th></th>\n",
       "      <th>MIN</th>\n",
       "    </tr>\n",
       "    <tr>\n",
       "      <th>Nr</th>\n",
       "      <th>Giocatore</th>\n",
       "      <th></th>\n",
       "    </tr>\n",
       "  </thead>\n",
       "  <tbody>\n",
       "    <tr>\n",
       "      <th>5</th>\n",
       "      <th>Sow Tanor</th>\n",
       "      <td>2</td>\n",
       "    </tr>\n",
       "    <tr>\n",
       "      <th>6</th>\n",
       "      <th>Provitera Leonardo</th>\n",
       "      <td>3</td>\n",
       "    </tr>\n",
       "    <tr>\n",
       "      <th>7</th>\n",
       "      <th>Del Giorgio Alessandro</th>\n",
       "      <td>2</td>\n",
       "    </tr>\n",
       "    <tr>\n",
       "      <th>8</th>\n",
       "      <th>Del Barba Daniele</th>\n",
       "      <td>3</td>\n",
       "    </tr>\n",
       "    <tr>\n",
       "      <th>9</th>\n",
       "      <th>Gianera Leonardo</th>\n",
       "      <td>1</td>\n",
       "    </tr>\n",
       "    <tr>\n",
       "      <th>10</th>\n",
       "      <th>Martinucci Nicola</th>\n",
       "      <td>1</td>\n",
       "    </tr>\n",
       "    <tr>\n",
       "      <th>11</th>\n",
       "      <th>Garbellini Francesco</th>\n",
       "      <td>1</td>\n",
       "    </tr>\n",
       "    <tr>\n",
       "      <th>12</th>\n",
       "      <th>Bolotta Guglielmo</th>\n",
       "      <td>3</td>\n",
       "    </tr>\n",
       "    <tr>\n",
       "      <th>14</th>\n",
       "      <th>Giorgetta Patrick</th>\n",
       "      <td>2</td>\n",
       "    </tr>\n",
       "    <tr>\n",
       "      <th>15</th>\n",
       "      <th>Ravo Emanuele</th>\n",
       "      <td>2</td>\n",
       "    </tr>\n",
       "    <tr>\n",
       "      <th>17</th>\n",
       "      <th>Sala Danna Giuseppe</th>\n",
       "      <td>3</td>\n",
       "    </tr>\n",
       "    <tr>\n",
       "      <th>20</th>\n",
       "      <th>Estella Roman Tristan</th>\n",
       "      <td>2</td>\n",
       "    </tr>\n",
       "    <tr>\n",
       "      <th>21</th>\n",
       "      <th>Balatti Lorenzo</th>\n",
       "      <td>3</td>\n",
       "    </tr>\n",
       "    <tr>\n",
       "      <th>22</th>\n",
       "      <th>Ka Mouhammadou</th>\n",
       "      <td>3</td>\n",
       "    </tr>\n",
       "    <tr>\n",
       "      <th>23</th>\n",
       "      <th>Papa Andrea</th>\n",
       "      <td>2</td>\n",
       "    </tr>\n",
       "    <tr>\n",
       "      <th>24</th>\n",
       "      <th>Ravo Alessandro</th>\n",
       "      <td>2</td>\n",
       "    </tr>\n",
       "    <tr>\n",
       "      <th></th>\n",
       "      <th>Totale</th>\n",
       "      <td>3</td>\n",
       "    </tr>\n",
       "  </tbody>\n",
       "</table>\n",
       "</div>"
      ],
      "text/plain": [
       "                           MIN\n",
       "Nr Giocatore                  \n",
       "5  Sow Tanor                 2\n",
       "6  Provitera Leonardo        3\n",
       "7  Del Giorgio Alessandro    2\n",
       "8  Del Barba Daniele         3\n",
       "9  Gianera Leonardo          1\n",
       "10 Martinucci Nicola         1\n",
       "11 Garbellini Francesco      1\n",
       "12 Bolotta Guglielmo         3\n",
       "14 Giorgetta Patrick         2\n",
       "15 Ravo Emanuele             2\n",
       "17 Sala Danna Giuseppe       3\n",
       "20 Estella Roman Tristan     2\n",
       "21 Balatti Lorenzo           3\n",
       "22 Ka Mouhammadou            3\n",
       "23 Papa Andrea               2\n",
       "24 Ravo Alessandro           2\n",
       "   Totale                    3"
      ]
     },
     "execution_count": 17,
     "metadata": {},
     "output_type": "execute_result"
    }
   ],
   "source": [
    "data.groupby([\"Nr\", \"Giocatore\"]).agg( {\"MIN\":\"count\"} )"
   ]
  },
  {
   "cell_type": "code",
   "execution_count": 31,
   "metadata": {},
   "outputs": [
    {
     "data": {
      "text/plain": [
       "Index(['Nr', 'Giocatore', 'MIN', 'PTS', 'FGM', 'FGA', 'FG%', '3PM', '3PA',\n",
       "       '3P%', '2PM', '2PA', '2P%', 'FTM', 'FTA', 'FT%', 'OREB', 'DREB', 'REB',\n",
       "       'AST', 'TOV', 'STL', 'BLK', 'SR', 'PF', 'PFD', 'PIR', 'EFF', '+/-',\n",
       "       'season', 'my_team', 'other_team', 'date', 'min_', 'sec_', 'sec'],\n",
       "      dtype='object')"
      ]
     },
     "execution_count": 31,
     "metadata": {},
     "output_type": "execute_result"
    }
   ],
   "source": [
    "data.columns"
   ]
  },
  {
   "cell_type": "code",
   "execution_count": 38,
   "metadata": {},
   "outputs": [
    {
     "name": "stderr",
     "output_type": "stream",
     "text": [
      "C:\\Users\\BiavaschiStefano\\AppData\\Local\\Temp\\ipykernel_1920\\2281362620.py:1: FutureWarning: The default value of numeric_only in DataFrameGroupBy.mean is deprecated. In a future version, numeric_only will default to False. Either specify numeric_only or select only columns which should be valid for the function.\n",
      "  mrg_1 = data.groupby([\"Nr\", \"Giocatore\"]).mean().reset_index()\n"
     ]
    }
   ],
   "source": [
    "mrg_1 = data.groupby([\"Nr\", \"Giocatore\"]).mean().reset_index()\n",
    "mrg_2 = data.groupby([\"Nr\", \"Giocatore\"]).agg( {\"MIN\":\"count\"} ).reset_index().rename(columns={\"MIN\":\"Nr_partite\"})\n",
    "\n",
    "data_mean = mrg_1.merge(mrg_2, on=[\"Nr\", \"Giocatore\"])\n",
    "data_mean[\"MIN\"] = data_mean.sec.apply(lambda x: sec_to_time(x) )\n",
    "\n",
    "data_mean = ['Nr', 'Giocatore', 'Nr_partite', 'MIN', 'PTS', 'FGM', 'FGA', '3PM', '3PA', '2PM', '2PA',\n",
    "       'FTM', 'FTA', 'OREB', 'DREB', 'REB', 'AST', 'TOV', 'STL', 'BLK', 'SR',\n",
    "       'PF', 'PFD', 'PIR', 'EFF', 'min_', 'sec_', 'sec' ]"
   ]
  },
  {
   "cell_type": "code",
   "execution_count": null,
   "metadata": {},
   "outputs": [],
   "source": []
  },
  {
   "cell_type": "code",
   "execution_count": 34,
   "metadata": {},
   "outputs": [],
   "source": []
  }
 ],
 "metadata": {
  "kernelspec": {
   "display_name": "streamlit-test-stats",
   "language": "python",
   "name": "python3"
  },
  "language_info": {
   "codemirror_mode": {
    "name": "ipython",
    "version": 3
   },
   "file_extension": ".py",
   "mimetype": "text/x-python",
   "name": "python",
   "nbconvert_exporter": "python",
   "pygments_lexer": "ipython3",
   "version": "3.11.1"
  }
 },
 "nbformat": 4,
 "nbformat_minor": 2
}
